{
 "cells": [
  {
   "cell_type": "code",
   "execution_count": 1,
   "metadata": {},
   "outputs": [],
   "source": [
    "import pandas as pd \n",
    "import numpy as np \n",
    "import datetime"
   ]
  },
  {
   "cell_type": "code",
   "execution_count": 2,
   "metadata": {},
   "outputs": [],
   "source": [
    "df15mar_15apr = pd.read_csv('H:\\intern_lovelocal/sab_kuch_milega.csv')\n",
    "df = df15mar_15apr[['customer_id','created_on']]"
   ]
  },
  {
   "cell_type": "code",
   "execution_count": 3,
   "metadata": {},
   "outputs": [],
   "source": [
    "#CREATING DATE TIME OBJECT\n",
    "start_date_obj= datetime.datetime.strptime('2020-02-01', '%Y-%m-%d').date()\n",
    "end_date_obj= datetime.datetime.strptime('2020-04-15', '%Y-%m-%d').date()"
   ]
  },
  {
   "cell_type": "code",
   "execution_count": 5,
   "metadata": {},
   "outputs": [],
   "source": [
    "def filt_by_date(start_date_obj, end_date_obj, df):\n",
    "       mask = ((df['Dates'] > start_date_obj) & (df['Dates'] <= end_date_obj))\n",
    "       df = df.loc[mask]\n",
    "       return df"
   ]
  },
  {
   "cell_type": "code",
   "execution_count": 6,
   "metadata": {},
   "outputs": [],
   "source": [
    "#PREPROCESSING THE DATA FRAME\n",
    "def prePro_df1(start_date_obj, end_date_obj, df15mar_15apr_slc_col):\n",
    "      df15mar_15apr_slc_col['created_on']= pd.to_datetime(df15mar_15apr_slc_col['created_on'])\n",
    "      df15mar_15apr_slc_col['created_on'].dt.tz_localize(None)\n",
    "      #TypeError: Cannot compare tz-naive and tz-aware datetime-like objects, HENCE SPLITTING DATE AND TIME\n",
    "      df15mar_15apr_slc_col['Dates'] = pd.to_datetime(df15mar_15apr_slc_col['created_on']).dt.date\n",
    "      df15mar_15apr_slc_col = df15mar_15apr_slc_col[['customer_id','Dates']]\n",
    "      #CALLING FILT BY DATE \n",
    "      df15mar_15apr_slc_col = filt_by_date(start_date_obj, end_date_obj, df15mar_15apr_slc_col)\n",
    "      return df15mar_15apr_slc_col"
   ]
  },
  {
   "cell_type": "code",
   "execution_count": 7,
   "metadata": {},
   "outputs": [
    {
     "name": "stderr",
     "output_type": "stream",
     "text": [
      "C:\\Users\\DELL\\Anaconda3\\lib\\site-packages\\ipykernel_launcher.py:3: SettingWithCopyWarning: \n",
      "A value is trying to be set on a copy of a slice from a DataFrame.\n",
      "Try using .loc[row_indexer,col_indexer] = value instead\n",
      "\n",
      "See the caveats in the documentation: http://pandas.pydata.org/pandas-docs/stable/user_guide/indexing.html#returning-a-view-versus-a-copy\n",
      "  This is separate from the ipykernel package so we can avoid doing imports until\n",
      "C:\\Users\\DELL\\Anaconda3\\lib\\site-packages\\ipykernel_launcher.py:6: SettingWithCopyWarning: \n",
      "A value is trying to be set on a copy of a slice from a DataFrame.\n",
      "Try using .loc[row_indexer,col_indexer] = value instead\n",
      "\n",
      "See the caveats in the documentation: http://pandas.pydata.org/pandas-docs/stable/user_guide/indexing.html#returning-a-view-versus-a-copy\n",
      "  \n"
     ]
    }
   ],
   "source": [
    "#CALLING PREpRO_DF1\n",
    "df15mar_15apr_slc_col= prePro_df1(start_date_obj, end_date_obj, df)"
   ]
  },
  {
   "cell_type": "code",
   "execution_count": 8,
   "metadata": {},
   "outputs": [],
   "source": [
    "#RESETTING INDEX\n",
    "df15mar_15apr_slc_col = df15mar_15apr_slc_col.sort_values(by=['Dates'])#FUNCTION TO FILTER DATA BY DATE\n",
    "df15mar_15apr_slc_col.reset_index(inplace= True)#RESET INDEX\n",
    "df15mar_15apr_slc_col = df15mar_15apr_slc_col[['customer_id','Dates']]#REMOVING OLD INDEX COLUMN\n"
   ]
  },
  {
   "cell_type": "code",
   "execution_count": 9,
   "metadata": {},
   "outputs": [],
   "source": [
    "\n",
    "#################################################################################################\n",
    "#FINDING CUSTOMERS WHO ORDERED MORE THAN 1 TIMES\n",
    "#REMOVING CUSTOMERS ORDERED ON SAME DATES \n",
    "df15mar_15apr_slc_col = df15mar_15apr_slc_col.drop_duplicates(subset=['customer_id', 'Dates'], keep='first')\n",
    "#KEEPING ONLY DUPLICATED CUSTOMER IDS\n",
    "df15mar_15apr_slc_col_dups = df15mar_15apr_slc_col[df15mar_15apr_slc_col.duplicated(subset=[\"customer_id\"], keep=False)]\n",
    "#CALCULATING FREQUENCY BY PIVOTING\n",
    "df15mar_15apr_slc_col_dups = df15mar_15apr_slc_col_dups.pivot_table(index=['customer_id'], aggfunc='size').sort_values(ascending= False)\n",
    "#Converting from series to dataframe\n",
    "df15mar_15apr_slc_col_dups = df15mar_15apr_slc_col_dups.to_frame()\n",
    "#NAming third column\n",
    "df15mar_15apr_slc_col_dups = df15mar_15apr_slc_col_dups.rename(columns = {0: \"freq\"})\n",
    "#Setting the Index\n",
    "df15mar_15apr_slc_col_dups.reset_index(inplace= True)"
   ]
  },
  {
   "cell_type": "code",
   "execution_count": 10,
   "metadata": {},
   "outputs": [
    {
     "name": "stdout",
     "output_type": "stream",
     "text": [
      "                            customer_id       Dates\n",
      "0      b31f89664e91417d8bda81c02dee3fc4  2020-02-02\n",
      "1      f2bb1de2d52c40e5a165b928dd6fefca  2020-02-02\n",
      "2      dae1f7beee494b13975b54b6f5c23fde  2020-02-02\n",
      "3      417e83c08db243f5b976cf42039cb452  2020-02-02\n",
      "4      dedb8158519e448eb8680619b0871368  2020-02-02\n",
      "...                                 ...         ...\n",
      "20667  9c5eb857da0244579dfb68ebd9ac79a5  2020-04-15\n",
      "20668  7d7e5e68e8cb45629fc4a22e3de82c79  2020-04-15\n",
      "20672  72448b0aeaf34b5d8159dbe1306f6eda  2020-04-15\n",
      "20675  e9c5ac2906b14ed6b044ee0a763c9555  2020-04-15\n",
      "20677  6fdbc679025e498bb4d27d5e4204bfc5  2020-04-15\n",
      "\n",
      "[18585 rows x 2 columns]\n"
     ]
    }
   ],
   "source": [
    "print(df15mar_15apr_slc_col)"
   ]
  },
  {
   "cell_type": "markdown",
   "metadata": {},
   "source": [
    "#TOTAL NUMER OF ORDERS FROM 16TH MARCH - 15TH APRIL"
   ]
  },
  {
   "cell_type": "code",
   "execution_count": 11,
   "metadata": {},
   "outputs": [
    {
     "name": "stdout",
     "output_type": "stream",
     "text": [
      "                           customer_id  freq\n",
      "0     5c15fb165d8a4afc8c1dad7850104056    20\n",
      "1     c0f42047fe384b199c7fb216da5f1c25    16\n",
      "2     0b2e2cb5801144eca4a8c7c8cd1673a2    15\n",
      "3     1d3bb8e528c949bb9bcb191abb0c1dd5    13\n",
      "4     d61ebf98b24248779f85bd11f1da68fb    11\n",
      "...                                ...   ...\n",
      "2190  9a5acb8e30fb4bf98a953eb8e52fb468     2\n",
      "2191  9a9ff7f0622e4be7a20b4ba843d76544     2\n",
      "2192  9aaf21e83a1645b9b4963245f45ae353     2\n",
      "2193  9ab72d6a52144165a2f3cd928e1ddb2e     2\n",
      "2194  0011bf17a68041c587cf7b3c9e09285d     2\n",
      "\n",
      "[2195 rows x 2 columns]\n"
     ]
    }
   ],
   "source": [
    "print(df15mar_15apr_slc_col_dups)"
   ]
  },
  {
   "cell_type": "markdown",
   "metadata": {},
   "source": [
    "#CUSTOMERS WITH ORDERS > 1. FROM 16TH MARCH - 15TH APRIL"
   ]
  },
  {
   "cell_type": "code",
   "execution_count": 12,
   "metadata": {},
   "outputs": [],
   "source": [
    "#FINDING CUSTOMERS WHO ORDERED EXACTLY 1 TIMES\n",
    "#CALCULATING FREQUENCY BY PIVOTING\n",
    "cust_ordered_1_time = df15mar_15apr_slc_col.pivot_table(index=['customer_id'], aggfunc='size').sort_values(ascending= False)\n",
    "#Converting from series to dataframe\n",
    "cust_ordered_1_time = cust_ordered_1_time.to_frame()\n",
    "#NAming third column\n",
    "cust_ordered_1_time = cust_ordered_1_time.rename(columns = {0: \"freq\"})\n",
    "#Setting the Index\n",
    "cust_ordered_1_time = cust_ordered_1_time.loc[cust_ordered_1_time['freq'] == 1] \n",
    "cust_ordered_1_time.reset_index(inplace= True)\n"
   ]
  },
  {
   "cell_type": "code",
   "execution_count": 13,
   "metadata": {},
   "outputs": [
    {
     "name": "stdout",
     "output_type": "stream",
     "text": [
      "                            customer_id  freq\n",
      "0      53f296df031c4c41bd0901bbc70d75f5     1\n",
      "1      5394495cd16d4c378a1b1f145cf379f6     1\n",
      "2      4800c98ba2b945cda59463107f21e226     1\n",
      "3      541e326b151646e085c40fdb36bf65ba     1\n",
      "4      480d910f91194a23bc83979ed15435e8     1\n",
      "...                                 ...   ...\n",
      "12899  a56ae3900dfd4db19e9857920721efba     1\n",
      "12900  a556ab40eac742368bcec95025c6fc7d     1\n",
      "12901  a5568fbf953e41fb867a91ec447d93ec     1\n",
      "12902  a5490f375cab4fb2bb029d39105ec1ce     1\n",
      "12903  0001370ecc044bbdaf598d8c229fe42b     1\n",
      "\n",
      "[12904 rows x 2 columns]\n"
     ]
    }
   ],
   "source": [
    "print(cust_ordered_1_time)"
   ]
  },
  {
   "cell_type": "markdown",
   "metadata": {},
   "source": [
    "#CUSTOMERS WITH EXACTLY 1 ORDER FROM 16TH MARCH TO 15TH APRIL"
   ]
  },
  {
   "cell_type": "code",
   "execution_count": 14,
   "metadata": {},
   "outputs": [],
   "source": [
    "#AMONG FRQUENT CUSTOMERS FINDING WHICH CUSTOMERS ARE NOT ORDERING NOW FREQUENTLY\n",
    "\n",
    "#GIVING INPUT FOR SELECTED DATE \n",
    "import copy\n",
    "df2 = copy.deepcopy(df)\n",
    "\n",
    "\n",
    "df2['created_on']= pd.to_datetime(df2['created_on'])\n",
    "df2['created_on'].dt.tz_localize(None)\n",
    "#TypeError: Cannot compare tz-naive and tz-aware datetime-like objects, HENCE SPLITTING DATE AND TIME\n",
    "df2['Dates'] = pd.to_datetime(df2['created_on']).dt.date\n",
    "df2 = df2[['customer_id','Dates']]\n",
    "\n",
    "start_date_obj= datetime.datetime.strptime('2020-04-15', '%Y-%m-%d').date()\n",
    "mask = (df2['Dates'] > start_date_obj)\n",
    "df2 = df2.loc[mask]\n",
    "\n",
    "#RESETTING INDEX\n",
    "df2 = df2.sort_values(by=['Dates'])#FUNCTION TO FILTER DATA BY DATE\n",
    "df2.reset_index(inplace= True)#RESET INDEX\n",
    "df2 = df2[['customer_id','Dates']]#REMOVING OLD INDEX COLUMN\n",
    "\n",
    "################################################################################################\n",
    "      \n",
    "listt=[]\n",
    "for i in df15mar_15apr_slc_col_dups['customer_id']:\n",
    "    if i not in df2.values:\n",
    "       listt.append(i)       "
   ]
  },
  {
   "cell_type": "code",
   "execution_count": 15,
   "metadata": {},
   "outputs": [
    {
     "name": "stdout",
     "output_type": "stream",
     "text": [
      "2055\n"
     ]
    }
   ],
   "source": [
    "print(len(listt))"
   ]
  },
  {
   "cell_type": "markdown",
   "metadata": {},
   "source": [
    "#NUMBER OF CUSTOMERS WHO ARE NOT ORDERING AFTER 15TH APRIL TILL TODAY"
   ]
  },
  {
   "cell_type": "markdown",
   "metadata": {},
   "source": [
    "#CUSTOMERS WITH > 1 ORDER FROM 16TH MARCH TO 15TH IS 859, AMONG THOSE 859 CUSTOMERS, 769 OF CUSTOMERS HAVE \n",
    "#NOT PLACED ANY ORDER AFTER 15TH OF APRIL"
   ]
  },
  {
   "cell_type": "code",
   "execution_count": 16,
   "metadata": {},
   "outputs": [],
   "source": [
    "#CONSIDERING MORE THAN 2 ORDERS\n",
    "rslt_df = df15mar_15apr_slc_col_dups.loc[df15mar_15apr_slc_col_dups['freq'] >= 1] \n",
    " \n",
    "listt2=[]\n",
    "for i in rslt_df['customer_id']:\n",
    "    if i not in df2.values:\n",
    "       listt2.append(i)\n",
    "       "
   ]
  },
  {
   "cell_type": "code",
   "execution_count": 17,
   "metadata": {},
   "outputs": [
    {
     "name": "stdout",
     "output_type": "stream",
     "text": [
      "                           customer_id  freq\n",
      "0     5c15fb165d8a4afc8c1dad7850104056    20\n",
      "1     c0f42047fe384b199c7fb216da5f1c25    16\n",
      "2     0b2e2cb5801144eca4a8c7c8cd1673a2    15\n",
      "3     1d3bb8e528c949bb9bcb191abb0c1dd5    13\n",
      "4     d61ebf98b24248779f85bd11f1da68fb    11\n",
      "...                                ...   ...\n",
      "2190  9a5acb8e30fb4bf98a953eb8e52fb468     2\n",
      "2191  9a9ff7f0622e4be7a20b4ba843d76544     2\n",
      "2192  9aaf21e83a1645b9b4963245f45ae353     2\n",
      "2193  9ab72d6a52144165a2f3cd928e1ddb2e     2\n",
      "2194  0011bf17a68041c587cf7b3c9e09285d     2\n",
      "\n",
      "[2195 rows x 2 columns]\n"
     ]
    }
   ],
   "source": [
    "print(rslt_df)"
   ]
  },
  {
   "cell_type": "code",
   "execution_count": 18,
   "metadata": {},
   "outputs": [
    {
     "name": "stdout",
     "output_type": "stream",
     "text": [
      "2055\n"
     ]
    }
   ],
   "source": [
    "print(len(listt2))"
   ]
  },
  {
   "cell_type": "markdown",
   "metadata": {},
   "source": [
    "#### Total customers with > 2 orders from 16th march - 15th april is \"252\""
   ]
  },
  {
   "cell_type": "code",
   "execution_count": 19,
   "metadata": {},
   "outputs": [],
   "source": [
    "Customers_not_ordering = pd.DataFrame(listt2) "
   ]
  },
  {
   "cell_type": "code",
   "execution_count": 20,
   "metadata": {},
   "outputs": [
    {
     "data": {
      "text/html": [
       "<div>\n",
       "<style scoped>\n",
       "    .dataframe tbody tr th:only-of-type {\n",
       "        vertical-align: middle;\n",
       "    }\n",
       "\n",
       "    .dataframe tbody tr th {\n",
       "        vertical-align: top;\n",
       "    }\n",
       "\n",
       "    .dataframe thead th {\n",
       "        text-align: right;\n",
       "    }\n",
       "</style>\n",
       "<table border=\"1\" class=\"dataframe\">\n",
       "  <thead>\n",
       "    <tr style=\"text-align: right;\">\n",
       "      <th></th>\n",
       "      <th>0</th>\n",
       "    </tr>\n",
       "  </thead>\n",
       "  <tbody>\n",
       "    <tr>\n",
       "      <td>0</td>\n",
       "      <td>0b2e2cb5801144eca4a8c7c8cd1673a2</td>\n",
       "    </tr>\n",
       "    <tr>\n",
       "      <td>1</td>\n",
       "      <td>1d3bb8e528c949bb9bcb191abb0c1dd5</td>\n",
       "    </tr>\n",
       "    <tr>\n",
       "      <td>2</td>\n",
       "      <td>d61ebf98b24248779f85bd11f1da68fb</td>\n",
       "    </tr>\n",
       "    <tr>\n",
       "      <td>3</td>\n",
       "      <td>9ff639829b95435d867c272e2f93ae2e</td>\n",
       "    </tr>\n",
       "    <tr>\n",
       "      <td>4</td>\n",
       "      <td>5760d12a58db418cbae5d11a79c7cdfd</td>\n",
       "    </tr>\n",
       "    <tr>\n",
       "      <td>...</td>\n",
       "      <td>...</td>\n",
       "    </tr>\n",
       "    <tr>\n",
       "      <td>2050</td>\n",
       "      <td>9a5acb8e30fb4bf98a953eb8e52fb468</td>\n",
       "    </tr>\n",
       "    <tr>\n",
       "      <td>2051</td>\n",
       "      <td>9a9ff7f0622e4be7a20b4ba843d76544</td>\n",
       "    </tr>\n",
       "    <tr>\n",
       "      <td>2052</td>\n",
       "      <td>9aaf21e83a1645b9b4963245f45ae353</td>\n",
       "    </tr>\n",
       "    <tr>\n",
       "      <td>2053</td>\n",
       "      <td>9ab72d6a52144165a2f3cd928e1ddb2e</td>\n",
       "    </tr>\n",
       "    <tr>\n",
       "      <td>2054</td>\n",
       "      <td>0011bf17a68041c587cf7b3c9e09285d</td>\n",
       "    </tr>\n",
       "  </tbody>\n",
       "</table>\n",
       "<p>2055 rows × 1 columns</p>\n",
       "</div>"
      ],
      "text/plain": [
       "                                     0\n",
       "0     0b2e2cb5801144eca4a8c7c8cd1673a2\n",
       "1     1d3bb8e528c949bb9bcb191abb0c1dd5\n",
       "2     d61ebf98b24248779f85bd11f1da68fb\n",
       "3     9ff639829b95435d867c272e2f93ae2e\n",
       "4     5760d12a58db418cbae5d11a79c7cdfd\n",
       "...                                ...\n",
       "2050  9a5acb8e30fb4bf98a953eb8e52fb468\n",
       "2051  9a9ff7f0622e4be7a20b4ba843d76544\n",
       "2052  9aaf21e83a1645b9b4963245f45ae353\n",
       "2053  9ab72d6a52144165a2f3cd928e1ddb2e\n",
       "2054  0011bf17a68041c587cf7b3c9e09285d\n",
       "\n",
       "[2055 rows x 1 columns]"
      ]
     },
     "execution_count": 20,
     "metadata": {},
     "output_type": "execute_result"
    }
   ],
   "source": [
    "Customers_not_ordering"
   ]
  },
  {
   "cell_type": "code",
   "execution_count": 21,
   "metadata": {},
   "outputs": [],
   "source": [
    "Customers_not_ordering = Customers_not_ordering.rename(columns = {0: \"customer_id\"})"
   ]
  },
  {
   "cell_type": "code",
   "execution_count": 22,
   "metadata": {},
   "outputs": [],
   "source": [
    "Customers_not_ordering.to_excel(r'H:\\intern_lovelocal\\customers_not_ordering_new.xlsx', index = False)"
   ]
  },
  {
   "cell_type": "markdown",
   "metadata": {},
   "source": [
    "#AMONG THOSE 252 CUSTOMERS NUMBER OF CUSTOMERS WITH MORE THAN 2 ORDERS IN PREV MONTH BUT DID NOT PLACED ANY ORDER AFTER 15TH APRIL"
   ]
  },
  {
   "cell_type": "markdown",
   "metadata": {},
   "source": [
    "#CUSTOMERS WITH > 2 ORDER FROM 16TH MARCH TO 15TH IS 859, AMONG THOSE 859 CUSTOMERS, 769 OF CUSTOMERS HAVE \n",
    "#NOT PLACED ANY ORDER AFTER 15TH OF APRIL"
   ]
  },
  {
   "cell_type": "markdown",
   "metadata": {},
   "source": [
    "# DID SEPARATELY FOR CUSTOMERS WITH  > 2 AND > 1 ORDERS, BECAUSE, CUSTOMERS WITH EXATLY 2 ORDERS FROM 16TH MARCH - 15TH APRIL  ARE = NEARLY  600 (BIG AMOUNT)  FROM TOTAL OF JUST 859 CUSTOMERS.\n",
    "# HENCE CALCULATING FOR CUSTOMERS > 2 ORDERS FROM 16MAR- 15APRIL BUT NOT PLCAING ORDERS AFTER THAT BECOMES THE NECESSITY FOR THE PROPER RESULTS AND FURTHER WORK  "
   ]
  },
  {
   "cell_type": "code",
   "execution_count": 23,
   "metadata": {},
   "outputs": [],
   "source": [
    "customer_not_ordering_latest = pd.merge(left=Customers_not_ordering, right=rslt_df, how='left', left_on='customer_id', right_on='customer_id')"
   ]
  },
  {
   "cell_type": "code",
   "execution_count": 24,
   "metadata": {},
   "outputs": [
    {
     "data": {
      "text/html": [
       "<style  type=\"text/css\" >\n",
       "    #T_0919e9d0_c1ab_11ea_b13e_509a4cb61dbfrow0_col1 {\n",
       "            background-color:  #08306b;\n",
       "            color:  #f1f1f1;\n",
       "        }    #T_0919e9d0_c1ab_11ea_b13e_509a4cb61dbfrow1_col1 {\n",
       "            background-color:  #2b7bba;\n",
       "            color:  #000000;\n",
       "        }    #T_0919e9d0_c1ab_11ea_b13e_509a4cb61dbfrow2_col1 {\n",
       "            background-color:  #89bedc;\n",
       "            color:  #000000;\n",
       "        }    #T_0919e9d0_c1ab_11ea_b13e_509a4cb61dbfrow3_col1 {\n",
       "            background-color:  #bad6eb;\n",
       "            color:  #000000;\n",
       "        }    #T_0919e9d0_c1ab_11ea_b13e_509a4cb61dbfrow4_col1 {\n",
       "            background-color:  #dbe9f6;\n",
       "            color:  #000000;\n",
       "        }    #T_0919e9d0_c1ab_11ea_b13e_509a4cb61dbfrow5_col1 {\n",
       "            background-color:  #dbe9f6;\n",
       "            color:  #000000;\n",
       "        }    #T_0919e9d0_c1ab_11ea_b13e_509a4cb61dbfrow6_col1 {\n",
       "            background-color:  #dbe9f6;\n",
       "            color:  #000000;\n",
       "        }    #T_0919e9d0_c1ab_11ea_b13e_509a4cb61dbfrow7_col1 {\n",
       "            background-color:  #dbe9f6;\n",
       "            color:  #000000;\n",
       "        }    #T_0919e9d0_c1ab_11ea_b13e_509a4cb61dbfrow8_col1 {\n",
       "            background-color:  #f7fbff;\n",
       "            color:  #000000;\n",
       "        }    #T_0919e9d0_c1ab_11ea_b13e_509a4cb61dbfrow9_col1 {\n",
       "            background-color:  #f7fbff;\n",
       "            color:  #000000;\n",
       "        }</style><table id=\"T_0919e9d0_c1ab_11ea_b13e_509a4cb61dbf\" ><thead>    <tr>        <th class=\"blank level0\" ></th>        <th class=\"col_heading level0 col0\" >customer_id</th>        <th class=\"col_heading level0 col1\" >freq</th>    </tr></thead><tbody>\n",
       "                <tr>\n",
       "                        <th id=\"T_0919e9d0_c1ab_11ea_b13e_509a4cb61dbflevel0_row0\" class=\"row_heading level0 row0\" >0</th>\n",
       "                        <td id=\"T_0919e9d0_c1ab_11ea_b13e_509a4cb61dbfrow0_col0\" class=\"data row0 col0\" >0b2e2cb5801144eca4a8c7c8cd1673a2</td>\n",
       "                        <td id=\"T_0919e9d0_c1ab_11ea_b13e_509a4cb61dbfrow0_col1\" class=\"data row0 col1\" >15</td>\n",
       "            </tr>\n",
       "            <tr>\n",
       "                        <th id=\"T_0919e9d0_c1ab_11ea_b13e_509a4cb61dbflevel0_row1\" class=\"row_heading level0 row1\" >1</th>\n",
       "                        <td id=\"T_0919e9d0_c1ab_11ea_b13e_509a4cb61dbfrow1_col0\" class=\"data row1 col0\" >1d3bb8e528c949bb9bcb191abb0c1dd5</td>\n",
       "                        <td id=\"T_0919e9d0_c1ab_11ea_b13e_509a4cb61dbfrow1_col1\" class=\"data row1 col1\" >13</td>\n",
       "            </tr>\n",
       "            <tr>\n",
       "                        <th id=\"T_0919e9d0_c1ab_11ea_b13e_509a4cb61dbflevel0_row2\" class=\"row_heading level0 row2\" >2</th>\n",
       "                        <td id=\"T_0919e9d0_c1ab_11ea_b13e_509a4cb61dbfrow2_col0\" class=\"data row2 col0\" >d61ebf98b24248779f85bd11f1da68fb</td>\n",
       "                        <td id=\"T_0919e9d0_c1ab_11ea_b13e_509a4cb61dbfrow2_col1\" class=\"data row2 col1\" >11</td>\n",
       "            </tr>\n",
       "            <tr>\n",
       "                        <th id=\"T_0919e9d0_c1ab_11ea_b13e_509a4cb61dbflevel0_row3\" class=\"row_heading level0 row3\" >3</th>\n",
       "                        <td id=\"T_0919e9d0_c1ab_11ea_b13e_509a4cb61dbfrow3_col0\" class=\"data row3 col0\" >9ff639829b95435d867c272e2f93ae2e</td>\n",
       "                        <td id=\"T_0919e9d0_c1ab_11ea_b13e_509a4cb61dbfrow3_col1\" class=\"data row3 col1\" >10</td>\n",
       "            </tr>\n",
       "            <tr>\n",
       "                        <th id=\"T_0919e9d0_c1ab_11ea_b13e_509a4cb61dbflevel0_row4\" class=\"row_heading level0 row4\" >4</th>\n",
       "                        <td id=\"T_0919e9d0_c1ab_11ea_b13e_509a4cb61dbfrow4_col0\" class=\"data row4 col0\" >5760d12a58db418cbae5d11a79c7cdfd</td>\n",
       "                        <td id=\"T_0919e9d0_c1ab_11ea_b13e_509a4cb61dbfrow4_col1\" class=\"data row4 col1\" >9</td>\n",
       "            </tr>\n",
       "            <tr>\n",
       "                        <th id=\"T_0919e9d0_c1ab_11ea_b13e_509a4cb61dbflevel0_row5\" class=\"row_heading level0 row5\" >5</th>\n",
       "                        <td id=\"T_0919e9d0_c1ab_11ea_b13e_509a4cb61dbfrow5_col0\" class=\"data row5 col0\" >b7899cef6022472a9cf38ed256c57e07</td>\n",
       "                        <td id=\"T_0919e9d0_c1ab_11ea_b13e_509a4cb61dbfrow5_col1\" class=\"data row5 col1\" >9</td>\n",
       "            </tr>\n",
       "            <tr>\n",
       "                        <th id=\"T_0919e9d0_c1ab_11ea_b13e_509a4cb61dbflevel0_row6\" class=\"row_heading level0 row6\" >6</th>\n",
       "                        <td id=\"T_0919e9d0_c1ab_11ea_b13e_509a4cb61dbfrow6_col0\" class=\"data row6 col0\" >184755e7ee4943e5b48c7086980366ed</td>\n",
       "                        <td id=\"T_0919e9d0_c1ab_11ea_b13e_509a4cb61dbfrow6_col1\" class=\"data row6 col1\" >9</td>\n",
       "            </tr>\n",
       "            <tr>\n",
       "                        <th id=\"T_0919e9d0_c1ab_11ea_b13e_509a4cb61dbflevel0_row7\" class=\"row_heading level0 row7\" >7</th>\n",
       "                        <td id=\"T_0919e9d0_c1ab_11ea_b13e_509a4cb61dbfrow7_col0\" class=\"data row7 col0\" >b3fda2de14874fda80b3ef7a091f88e9</td>\n",
       "                        <td id=\"T_0919e9d0_c1ab_11ea_b13e_509a4cb61dbfrow7_col1\" class=\"data row7 col1\" >9</td>\n",
       "            </tr>\n",
       "            <tr>\n",
       "                        <th id=\"T_0919e9d0_c1ab_11ea_b13e_509a4cb61dbflevel0_row8\" class=\"row_heading level0 row8\" >8</th>\n",
       "                        <td id=\"T_0919e9d0_c1ab_11ea_b13e_509a4cb61dbfrow8_col0\" class=\"data row8 col0\" >c3c553212956466f810f213dc83a8eef</td>\n",
       "                        <td id=\"T_0919e9d0_c1ab_11ea_b13e_509a4cb61dbfrow8_col1\" class=\"data row8 col1\" >8</td>\n",
       "            </tr>\n",
       "            <tr>\n",
       "                        <th id=\"T_0919e9d0_c1ab_11ea_b13e_509a4cb61dbflevel0_row9\" class=\"row_heading level0 row9\" >9</th>\n",
       "                        <td id=\"T_0919e9d0_c1ab_11ea_b13e_509a4cb61dbfrow9_col0\" class=\"data row9 col0\" >47e428d461fd41a081336c5bd2bcfc66</td>\n",
       "                        <td id=\"T_0919e9d0_c1ab_11ea_b13e_509a4cb61dbfrow9_col1\" class=\"data row9 col1\" >8</td>\n",
       "            </tr>\n",
       "    </tbody></table>"
      ],
      "text/plain": [
       "<pandas.io.formats.style.Styler at 0x287322904c8>"
      ]
     },
     "execution_count": 24,
     "metadata": {},
     "output_type": "execute_result"
    }
   ],
   "source": [
    "customer_not_ordering_latest.head(10).style.background_gradient(cmap='Blues')"
   ]
  },
  {
   "cell_type": "code",
   "execution_count": 25,
   "metadata": {},
   "outputs": [
    {
     "data": {
      "text/html": [
       "<div>\n",
       "<style scoped>\n",
       "    .dataframe tbody tr th:only-of-type {\n",
       "        vertical-align: middle;\n",
       "    }\n",
       "\n",
       "    .dataframe tbody tr th {\n",
       "        vertical-align: top;\n",
       "    }\n",
       "\n",
       "    .dataframe thead th {\n",
       "        text-align: right;\n",
       "    }\n",
       "</style>\n",
       "<table border=\"1\" class=\"dataframe\">\n",
       "  <thead>\n",
       "    <tr style=\"text-align: right;\">\n",
       "      <th></th>\n",
       "      <th>customer_id</th>\n",
       "      <th>freq</th>\n",
       "    </tr>\n",
       "  </thead>\n",
       "  <tbody>\n",
       "    <tr>\n",
       "      <td>0</td>\n",
       "      <td>0b2e2cb5801144eca4a8c7c8cd1673a2</td>\n",
       "      <td>15</td>\n",
       "    </tr>\n",
       "    <tr>\n",
       "      <td>1</td>\n",
       "      <td>1d3bb8e528c949bb9bcb191abb0c1dd5</td>\n",
       "      <td>13</td>\n",
       "    </tr>\n",
       "    <tr>\n",
       "      <td>2</td>\n",
       "      <td>d61ebf98b24248779f85bd11f1da68fb</td>\n",
       "      <td>11</td>\n",
       "    </tr>\n",
       "    <tr>\n",
       "      <td>3</td>\n",
       "      <td>9ff639829b95435d867c272e2f93ae2e</td>\n",
       "      <td>10</td>\n",
       "    </tr>\n",
       "    <tr>\n",
       "      <td>4</td>\n",
       "      <td>5760d12a58db418cbae5d11a79c7cdfd</td>\n",
       "      <td>9</td>\n",
       "    </tr>\n",
       "    <tr>\n",
       "      <td>...</td>\n",
       "      <td>...</td>\n",
       "      <td>...</td>\n",
       "    </tr>\n",
       "    <tr>\n",
       "      <td>2050</td>\n",
       "      <td>9a5acb8e30fb4bf98a953eb8e52fb468</td>\n",
       "      <td>2</td>\n",
       "    </tr>\n",
       "    <tr>\n",
       "      <td>2051</td>\n",
       "      <td>9a9ff7f0622e4be7a20b4ba843d76544</td>\n",
       "      <td>2</td>\n",
       "    </tr>\n",
       "    <tr>\n",
       "      <td>2052</td>\n",
       "      <td>9aaf21e83a1645b9b4963245f45ae353</td>\n",
       "      <td>2</td>\n",
       "    </tr>\n",
       "    <tr>\n",
       "      <td>2053</td>\n",
       "      <td>9ab72d6a52144165a2f3cd928e1ddb2e</td>\n",
       "      <td>2</td>\n",
       "    </tr>\n",
       "    <tr>\n",
       "      <td>2054</td>\n",
       "      <td>0011bf17a68041c587cf7b3c9e09285d</td>\n",
       "      <td>2</td>\n",
       "    </tr>\n",
       "  </tbody>\n",
       "</table>\n",
       "<p>2055 rows × 2 columns</p>\n",
       "</div>"
      ],
      "text/plain": [
       "                           customer_id  freq\n",
       "0     0b2e2cb5801144eca4a8c7c8cd1673a2    15\n",
       "1     1d3bb8e528c949bb9bcb191abb0c1dd5    13\n",
       "2     d61ebf98b24248779f85bd11f1da68fb    11\n",
       "3     9ff639829b95435d867c272e2f93ae2e    10\n",
       "4     5760d12a58db418cbae5d11a79c7cdfd     9\n",
       "...                                ...   ...\n",
       "2050  9a5acb8e30fb4bf98a953eb8e52fb468     2\n",
       "2051  9a9ff7f0622e4be7a20b4ba843d76544     2\n",
       "2052  9aaf21e83a1645b9b4963245f45ae353     2\n",
       "2053  9ab72d6a52144165a2f3cd928e1ddb2e     2\n",
       "2054  0011bf17a68041c587cf7b3c9e09285d     2\n",
       "\n",
       "[2055 rows x 2 columns]"
      ]
     },
     "execution_count": 25,
     "metadata": {},
     "output_type": "execute_result"
    }
   ],
   "source": [
    "customer_not_ordering_latest"
   ]
  },
  {
   "cell_type": "code",
   "execution_count": 141,
   "metadata": {},
   "outputs": [],
   "source": [
    "customer_not_ordering_latest.to_excel(r'H:\\intern_lovelocal\\customer_not_ordering_latest.xlsx', index = False)"
   ]
  },
  {
   "cell_type": "code",
   "execution_count": null,
   "metadata": {},
   "outputs": [],
   "source": []
  },
  {
   "cell_type": "code",
   "execution_count": null,
   "metadata": {},
   "outputs": [],
   "source": []
  }
 ],
 "metadata": {
  "kernelspec": {
   "display_name": "Python 3",
   "language": "python",
   "name": "python3"
  },
  "language_info": {
   "codemirror_mode": {
    "name": "ipython",
    "version": 3
   },
   "file_extension": ".py",
   "mimetype": "text/x-python",
   "name": "python",
   "nbconvert_exporter": "python",
   "pygments_lexer": "ipython3",
   "version": "3.7.4"
  }
 },
 "nbformat": 4,
 "nbformat_minor": 2
}
